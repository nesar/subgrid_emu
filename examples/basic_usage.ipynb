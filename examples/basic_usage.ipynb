{
 "cells": [
  {
   "cell_type": "markdown",
   "metadata": {},
   "source": [
    "# Subgrid Emulator - Basic Usage Examples\n",
    "\n",
    "This notebook demonstrates how to use the `subgrid_emu` package to make predictions for various cosmological summary statistics."
   ]
  },
  {
   "cell_type": "code",
   "execution_count": 1,
   "metadata": {},
   "outputs": [],
   "source": [
    "import numpy as np\n",
    "import matplotlib.pyplot as plt\n",
    "from subgrid_emu import (\n",
    "    load_emulator, \n",
    "    list_available_statistics,\n",
    "    get_x_grid,\n",
    "    get_plot_info,\n",
    "    get_parameter_info\n",
    ")\n",
    "\n",
    "# Set plotting style\n",
    "plt.style.use('seaborn-v0_8-darkgrid')\n",
    "%matplotlib inline"
   ]
  },
  {
   "cell_type": "markdown",
   "metadata": {},
   "source": [
    "## 1. List Available Statistics"
   ]
  },
  {
   "cell_type": "code",
   "execution_count": 2,
   "metadata": {},
   "outputs": [
    {
     "name": "stdout",
     "output_type": "stream",
     "text": [
      "5-parameter models:\n",
      "  - GSMF\n",
      "  - BHMSM\n",
      "  - fGas\n",
      "  - CGD\n",
      "  - CGED\n",
      "  - Pk\n",
      "  - CSFR\n",
      "\n",
      "2-parameter models:\n",
      "  - CGD_2p\n",
      "  - CGD_CC_2p\n",
      "  - fGas_2p\n"
     ]
    }
   ],
   "source": [
    "stats = list_available_statistics()\n",
    "print(\"5-parameter models:\")\n",
    "for stat in stats['5-parameter']:\n",
    "    print(f\"  - {stat}\")\n",
    "    \n",
    "print(\"\\n2-parameter models:\")\n",
    "for stat in stats['2-parameter']:\n",
    "    print(f\"  - {stat}\")"
   ]
  },
  {
   "cell_type": "markdown",
   "metadata": {},
   "source": [
    "## 2. Parameter Information"
   ]
  },
  {
   "cell_type": "code",
   "execution_count": 3,
   "metadata": {},
   "outputs": [
    {
     "name": "stdout",
     "output_type": "stream",
     "text": [
      "Input Parameters:\n",
      "================================================================================\n",
      "1. kappa_w ($\\kappa_\\text{w}$)\n",
      "   Range: (2.0, 4.0)\n",
      "   Description: Wind efficiency parameter\n",
      "\n",
      "2. e_w ($e_\\text{w}$)\n",
      "   Range: (0.2, 1.0)\n",
      "   Description: Wind energy fraction\n",
      "\n",
      "3. M_seed ($M_\\text{seed}/10^{6}$)\n",
      "   Range: (0.6, 1.2)\n",
      "   Description: Black hole seed mass (in 10^6 M_sun)\n",
      "\n",
      "4. v_kin ($v_\\text{kin}/10^{4}$)\n",
      "   Range: (0.1, 1.2)\n",
      "   Description: Kinetic wind velocity (in 10^4 km/s)\n",
      "\n",
      "5. epsilon_kin ($\\epsilon_\\text{kin}/10^{1}$)\n",
      "   Range: (0.02, 1.2)\n",
      "   Description: Kinetic feedback efficiency (in 10^1)\n",
      "\n"
     ]
    }
   ],
   "source": [
    "param_info = get_parameter_info()\n",
    "\n",
    "print(\"Input Parameters:\")\n",
    "print(\"=\" * 80)\n",
    "for i, name in enumerate(param_info['names']):\n",
    "    latex_name = param_info['latex_names'][i]\n",
    "    range_val = param_info['ranges'][name]\n",
    "    desc = param_info['descriptions'][name]\n",
    "    print(f\"{i+1}. {name} ({latex_name})\")\n",
    "    print(f\"   Range: {range_val}\")\n",
    "    print(f\"   Description: {desc}\")\n",
    "    print()"
   ]
  },
  {
   "cell_type": "markdown",
   "metadata": {},
   "source": [
    "## 3. Single Prediction Example - Galaxy Stellar Mass Function"
   ]
  },
  {
   "cell_type": "code",
   "execution_count": 4,
   "metadata": {},
   "outputs": [
    {
     "name": "stdout",
     "output_type": "stream",
     "text": [
      "Warning: you did not standardize y!\n",
      "Continuing with default standardization.\n",
      "To customize, call data.standardize_y on your SepiaData object first, or do manual standardization.\n",
      "Warning: you did not rescale x/t to unit cube!\n",
      "Continuing with default transformation to unit cube.\n",
      "To customize, call data.transform_xt on your SepiaData object first, or do manual transformation.\n",
      "Warning: you did not set up the K basis!\n",
      "Continuing with default PCA basis.\n",
      "To customize, call data.create_K_basis on your SepiaData object.\n"
     ]
    },
    {
     "name": "stderr",
     "output_type": "stream",
     "text": [
      "/home/nramachandra/Projects/Hydro_runs/Sepia_trials/SEPIA/sepia/SepiaData.py:347: RuntimeWarning: invalid value encountered in true_divide\n",
      "  self.sim_data.y_std = y_dm/self.sim_data.orig_y_sd\n"
     ]
    },
    {
     "ename": "LinAlgError",
     "evalue": "SVD did not converge",
     "output_type": "error",
     "traceback": [
      "\u001b[0;31m---------------------------------------------------------------------------\u001b[0m",
      "\u001b[0;31mLinAlgError\u001b[0m                               Traceback (most recent call last)",
      "Cell \u001b[0;32mIn[4], line 2\u001b[0m\n\u001b[1;32m      1\u001b[0m \u001b[38;5;66;03m# Load the GSMF emulator\u001b[39;00m\n\u001b[0;32m----> 2\u001b[0m emu_gsmf \u001b[38;5;241m=\u001b[39m \u001b[43mload_emulator\u001b[49m\u001b[43m(\u001b[49m\u001b[38;5;124;43m'\u001b[39;49m\u001b[38;5;124;43mGSMF\u001b[39;49m\u001b[38;5;124;43m'\u001b[39;49m\u001b[43m)\u001b[49m\n\u001b[1;32m      3\u001b[0m \u001b[38;5;28mprint\u001b[39m(emu_gsmf)\n\u001b[1;32m      5\u001b[0m \u001b[38;5;66;03m# Define parameters: [kappa_w, e_w, M_seed/1e6, v_kin/1e4, eps/1e1]\u001b[39;00m\n",
      "File \u001b[0;32m~/Projects/Hydro_runs/subgrid_emu/subgrid_emu/emulator.py:286\u001b[0m, in \u001b[0;36mload_emulator\u001b[0;34m(stat_name, z_index, exp_variance)\u001b[0m\n\u001b[1;32m    262\u001b[0m \u001b[38;5;28;01mdef\u001b[39;00m \u001b[38;5;21mload_emulator\u001b[39m(stat_name, z_index\u001b[38;5;241m=\u001b[39m\u001b[38;5;241m0\u001b[39m, exp_variance\u001b[38;5;241m=\u001b[39m\u001b[38;5;28;01mNone\u001b[39;00m):\n\u001b[1;32m    263\u001b[0m \u001b[38;5;250m    \u001b[39m\u001b[38;5;124;03m\"\"\"\u001b[39;00m\n\u001b[1;32m    264\u001b[0m \u001b[38;5;124;03m    Convenience function to load an emulator.\u001b[39;00m\n\u001b[1;32m    265\u001b[0m \u001b[38;5;124;03m    \u001b[39;00m\n\u001b[0;32m   (...)\u001b[0m\n\u001b[1;32m    284\u001b[0m \u001b[38;5;124;03m    >>> mean, quantiles = emu.predict(params)\u001b[39;00m\n\u001b[1;32m    285\u001b[0m \u001b[38;5;124;03m    \"\"\"\u001b[39;00m\n\u001b[0;32m--> 286\u001b[0m     \u001b[38;5;28;01mreturn\u001b[39;00m \u001b[43mSubgridEmulator\u001b[49m\u001b[43m(\u001b[49m\u001b[43mstat_name\u001b[49m\u001b[43m,\u001b[49m\u001b[43m \u001b[49m\u001b[43mz_index\u001b[49m\u001b[43m,\u001b[49m\u001b[43m \u001b[49m\u001b[43mexp_variance\u001b[49m\u001b[43m)\u001b[49m\n",
      "File \u001b[0;32m~/Projects/Hydro_runs/subgrid_emu/subgrid_emu/emulator.py:164\u001b[0m, in \u001b[0;36mSubgridEmulator.__init__\u001b[0;34m(self, stat_name, z_index, exp_variance)\u001b[0m\n\u001b[1;32m    162\u001b[0m \u001b[38;5;28mself\u001b[39m\u001b[38;5;241m.\u001b[39mexp_variance \u001b[38;5;241m=\u001b[39m exp_variance\n\u001b[1;32m    163\u001b[0m \u001b[38;5;28mself\u001b[39m\u001b[38;5;241m.\u001b[39mmodel \u001b[38;5;241m=\u001b[39m \u001b[38;5;28;01mNone\u001b[39;00m\n\u001b[0;32m--> 164\u001b[0m \u001b[38;5;28;43mself\u001b[39;49m\u001b[38;5;241;43m.\u001b[39;49m\u001b[43m_load_model\u001b[49m\u001b[43m(\u001b[49m\u001b[43m)\u001b[49m\n",
      "File \u001b[0;32m~/Projects/Hydro_runs/subgrid_emu/subgrid_emu/emulator.py:187\u001b[0m, in \u001b[0;36mSubgridEmulator._load_model\u001b[0;34m(self)\u001b[0m\n\u001b[1;32m    183\u001b[0m sepia_data \u001b[38;5;241m=\u001b[39m _sepia_data_format(dummy_design, dummy_y, dummy_y_ind)\n\u001b[1;32m    185\u001b[0m \u001b[38;5;66;03m# Create SepiaModel without doing PCA\u001b[39;00m\n\u001b[1;32m    186\u001b[0m \u001b[38;5;66;03m# The restore_model_info will load all the trained parameters including PCA basis\u001b[39;00m\n\u001b[0;32m--> 187\u001b[0m sepia_model \u001b[38;5;241m=\u001b[39m \u001b[43mSepiaModel\u001b[49m\u001b[43m(\u001b[49m\u001b[43msepia_data\u001b[49m\u001b[43m)\u001b[49m\n\u001b[1;32m    189\u001b[0m \u001b[38;5;66;03m# Restore the actual trained model parameters\u001b[39;00m\n\u001b[1;32m    190\u001b[0m \u001b[38;5;66;03m# restore_model_info expects the path without the .pkl extension\u001b[39;00m\n\u001b[1;32m    191\u001b[0m model_path_base \u001b[38;5;241m=\u001b[39m model_path\u001b[38;5;241m.\u001b[39mreplace(\u001b[38;5;124m'\u001b[39m\u001b[38;5;124m.pkl\u001b[39m\u001b[38;5;124m'\u001b[39m, \u001b[38;5;124m'\u001b[39m\u001b[38;5;124m'\u001b[39m)\n",
      "File \u001b[0;32m~/Projects/Hydro_runs/Sepia_trials/SEPIA/sepia/SepiaModel.py:72\u001b[0m, in \u001b[0;36mSepiaModel.__init__\u001b[0;34m(self, data, lamVzGroup, theta_fcon, theta_init, LamSim)\u001b[0m\n\u001b[1;32m     70\u001b[0m     \u001b[38;5;28mprint\u001b[39m(\u001b[38;5;124m'\u001b[39m\u001b[38;5;124mContinuing with default PCA basis.\u001b[39m\u001b[38;5;124m'\u001b[39m)\n\u001b[1;32m     71\u001b[0m     \u001b[38;5;28mprint\u001b[39m(\u001b[38;5;124m'\u001b[39m\u001b[38;5;124mTo customize, call data.create_K_basis on your SepiaData object.\u001b[39m\u001b[38;5;124m'\u001b[39m)\n\u001b[0;32m---> 72\u001b[0m     \u001b[43mdata\u001b[49m\u001b[38;5;241;43m.\u001b[39;49m\u001b[43mcreate_K_basis\u001b[49m\u001b[43m(\u001b[49m\u001b[43m)\u001b[49m\n\u001b[1;32m     73\u001b[0m \u001b[38;5;28;01melse\u001b[39;00m:\n\u001b[1;32m     74\u001b[0m     \u001b[38;5;28;01mif\u001b[39;00m \u001b[38;5;129;01mnot\u001b[39;00m data\u001b[38;5;241m.\u001b[39msim_only:\n",
      "File \u001b[0;32m~/Projects/Hydro_runs/Sepia_trials/SEPIA/sepia/SepiaData.py:477\u001b[0m, in \u001b[0;36mSepiaData.create_K_basis\u001b[0;34m(self, n_pc, K)\u001b[0m\n\u001b[1;32m    475\u001b[0m     \u001b[38;5;28mself\u001b[39m\u001b[38;5;241m.\u001b[39msim_data\u001b[38;5;241m.\u001b[39mK \u001b[38;5;241m=\u001b[39m K\n\u001b[1;32m    476\u001b[0m \u001b[38;5;28;01melse\u001b[39;00m:\n\u001b[0;32m--> 477\u001b[0m     \u001b[38;5;28;43mself\u001b[39;49m\u001b[38;5;241;43m.\u001b[39;49m\u001b[43mcompute_sim_PCA_basis\u001b[49m\u001b[43m(\u001b[49m\u001b[43mn_pc\u001b[49m\u001b[43m)\u001b[49m\n\u001b[1;32m    478\u001b[0m \u001b[38;5;66;03m# interpolate PC basis to observed, if present\u001b[39;00m\n\u001b[1;32m    479\u001b[0m \u001b[38;5;28;01mif\u001b[39;00m \u001b[38;5;129;01mnot\u001b[39;00m \u001b[38;5;28mself\u001b[39m\u001b[38;5;241m.\u001b[39msim_only:\n",
      "File \u001b[0;32m~/Projects/Hydro_runs/Sepia_trials/SEPIA/sepia/SepiaData.py:502\u001b[0m, in \u001b[0;36mSepiaData.compute_sim_PCA_basis\u001b[0;34m(self, n_pc)\u001b[0m\n\u001b[1;32m    500\u001b[0m     \u001b[38;5;28mprint\u001b[39m(\u001b[38;5;124m'\u001b[39m\u001b[38;5;124mWARNING: y not standardized, applying default standardization before PCA...\u001b[39m\u001b[38;5;124m'\u001b[39m)\n\u001b[1;32m    501\u001b[0m     \u001b[38;5;28mself\u001b[39m\u001b[38;5;241m.\u001b[39mstandardize_y()\n\u001b[0;32m--> 502\u001b[0m U, s, V \u001b[38;5;241m=\u001b[39m \u001b[43mnp\u001b[49m\u001b[38;5;241;43m.\u001b[39;49m\u001b[43mlinalg\u001b[49m\u001b[38;5;241;43m.\u001b[39;49m\u001b[43msvd\u001b[49m\u001b[43m(\u001b[49m\u001b[43my_std\u001b[49m\u001b[38;5;241;43m.\u001b[39;49m\u001b[43mT\u001b[49m\u001b[43m,\u001b[49m\u001b[43m \u001b[49m\u001b[43mfull_matrices\u001b[49m\u001b[38;5;241;43m=\u001b[39;49m\u001b[38;5;28;43;01mFalse\u001b[39;49;00m\u001b[43m)\u001b[49m\n\u001b[1;32m    503\u001b[0m s2 \u001b[38;5;241m=\u001b[39m np\u001b[38;5;241m.\u001b[39msquare(s)\n\u001b[1;32m    504\u001b[0m \u001b[38;5;28;01mif\u001b[39;00m n_pc \u001b[38;5;241m<\u001b[39m \u001b[38;5;241m1\u001b[39m:\n",
      "File \u001b[0;32m<__array_function__ internals>:180\u001b[0m, in \u001b[0;36msvd\u001b[0;34m(*args, **kwargs)\u001b[0m\n",
      "File \u001b[0;32m~/anaconda3/envs/qom_torch_tf/lib/python3.9/site-packages/numpy/linalg/linalg.py:1648\u001b[0m, in \u001b[0;36msvd\u001b[0;34m(a, full_matrices, compute_uv, hermitian)\u001b[0m\n\u001b[1;32m   1645\u001b[0m         gufunc \u001b[38;5;241m=\u001b[39m _umath_linalg\u001b[38;5;241m.\u001b[39msvd_n_s\n\u001b[1;32m   1647\u001b[0m signature \u001b[38;5;241m=\u001b[39m \u001b[38;5;124m'\u001b[39m\u001b[38;5;124mD->DdD\u001b[39m\u001b[38;5;124m'\u001b[39m \u001b[38;5;28;01mif\u001b[39;00m isComplexType(t) \u001b[38;5;28;01melse\u001b[39;00m \u001b[38;5;124m'\u001b[39m\u001b[38;5;124md->ddd\u001b[39m\u001b[38;5;124m'\u001b[39m\n\u001b[0;32m-> 1648\u001b[0m u, s, vh \u001b[38;5;241m=\u001b[39m \u001b[43mgufunc\u001b[49m\u001b[43m(\u001b[49m\u001b[43ma\u001b[49m\u001b[43m,\u001b[49m\u001b[43m \u001b[49m\u001b[43msignature\u001b[49m\u001b[38;5;241;43m=\u001b[39;49m\u001b[43msignature\u001b[49m\u001b[43m,\u001b[49m\u001b[43m \u001b[49m\u001b[43mextobj\u001b[49m\u001b[38;5;241;43m=\u001b[39;49m\u001b[43mextobj\u001b[49m\u001b[43m)\u001b[49m\n\u001b[1;32m   1649\u001b[0m u \u001b[38;5;241m=\u001b[39m u\u001b[38;5;241m.\u001b[39mastype(result_t, copy\u001b[38;5;241m=\u001b[39m\u001b[38;5;28;01mFalse\u001b[39;00m)\n\u001b[1;32m   1650\u001b[0m s \u001b[38;5;241m=\u001b[39m s\u001b[38;5;241m.\u001b[39mastype(_realType(result_t), copy\u001b[38;5;241m=\u001b[39m\u001b[38;5;28;01mFalse\u001b[39;00m)\n",
      "File \u001b[0;32m~/anaconda3/envs/qom_torch_tf/lib/python3.9/site-packages/numpy/linalg/linalg.py:97\u001b[0m, in \u001b[0;36m_raise_linalgerror_svd_nonconvergence\u001b[0;34m(err, flag)\u001b[0m\n\u001b[1;32m     96\u001b[0m \u001b[38;5;28;01mdef\u001b[39;00m \u001b[38;5;21m_raise_linalgerror_svd_nonconvergence\u001b[39m(err, flag):\n\u001b[0;32m---> 97\u001b[0m     \u001b[38;5;28;01mraise\u001b[39;00m LinAlgError(\u001b[38;5;124m\"\u001b[39m\u001b[38;5;124mSVD did not converge\u001b[39m\u001b[38;5;124m\"\u001b[39m)\n",
      "\u001b[0;31mLinAlgError\u001b[0m: SVD did not converge"
     ]
    }
   ],
   "source": [
    "# Load the GSMF emulator\n",
    "emu_gsmf = load_emulator('GSMF')\n",
    "print(emu_gsmf)\n",
    "\n",
    "# Define parameters: [kappa_w, e_w, M_seed/1e6, v_kin/1e4, eps/1e1]\n",
    "params = np.array([3.0, 0.5, 0.8, 0.65, 0.1])\n",
    "\n",
    "# Make prediction\n",
    "mean, quantiles = emu_gsmf.predict(params)\n",
    "\n",
    "# Get x-grid and plot info\n",
    "x_grid, x_label = get_x_grid('GSMF')\n",
    "plot_info = get_plot_info('GSMF')\n",
    "\n",
    "# Plot\n",
    "fig, ax = plt.subplots(figsize=(10, 6))\n",
    "ax.plot(x_grid, mean, 'b-', lw=2, label='Mean prediction')\n",
    "ax.fill_between(x_grid, quantiles[:, 0], quantiles[:, 1], \n",
    "                alpha=0.3, color='blue', label='90% CI')\n",
    "ax.set_xscale(plot_info['xscale'])\n",
    "ax.set_yscale(plot_info['yscale'])\n",
    "ax.set_xlabel(plot_info['xlabel'], fontsize=12)\n",
    "ax.set_ylabel(plot_info['ylabel'], fontsize=12)\n",
    "ax.set_title(plot_info['title'], fontsize=14)\n",
    "ax.legend(fontsize=11)\n",
    "ax.grid(True, alpha=0.3)\n",
    "plt.tight_layout()\n",
    "plt.show()\n",
    "\n",
    "print(f\"Prediction shape: {mean.shape}\")\n",
    "print(f\"X-grid shape: {x_grid.shape}\")"
   ]
  },
  {
   "cell_type": "markdown",
   "metadata": {},
   "source": [
    "## 4. Multiple Statistics Comparison"
   ]
  },
  {
   "cell_type": "code",
   "execution_count": null,
   "metadata": {},
   "outputs": [],
   "source": [
    "# Define parameters\n",
    "params = np.array([3.0, 0.5, 0.8, 0.65, 0.1])\n",
    "\n",
    "# Statistics to plot\n",
    "stats_to_plot = ['GSMF', 'BHMSM', 'fGas', 'CGD']\n",
    "\n",
    "# Create subplots\n",
    "fig, axes = plt.subplots(2, 2, figsize=(14, 10))\n",
    "axes = axes.flatten()\n",
    "\n",
    "for i, stat_name in enumerate(stats_to_plot):\n",
    "    # Load emulator\n",
    "    emu = load_emulator(stat_name)\n",
    "    \n",
    "    # Make prediction\n",
    "    mean, quantiles = emu.predict(params)\n",
    "    \n",
    "    # Get plotting info\n",
    "    x_grid, _ = get_x_grid(stat_name)\n",
    "    plot_info = get_plot_info(stat_name)\n",
    "    \n",
    "    # Plot\n",
    "    ax = axes[i]\n",
    "    ax.plot(x_grid, mean, 'b-', lw=2)\n",
    "    ax.fill_between(x_grid, quantiles[:, 0], quantiles[:, 1], \n",
    "                    alpha=0.3, color='blue')\n",
    "    ax.set_xscale(plot_info['xscale'])\n",
    "    ax.set_yscale(plot_info['yscale'])\n",
    "    ax.set_xlabel(plot_info['xlabel'], fontsize=11)\n",
    "    ax.set_ylabel(plot_info['ylabel'], fontsize=11)\n",
    "    ax.set_title(plot_info['title'], fontsize=12, fontweight='bold')\n",
    "    ax.grid(True, alpha=0.3)\n",
    "\n",
    "plt.tight_layout()\n",
    "plt.show()"
   ]
  },
  {
   "cell_type": "markdown",
   "metadata": {},
   "source": [
    "## 5. Parameter Variation Study"
   ]
  },
  {
   "cell_type": "code",
   "execution_count": null,
   "metadata": {},
   "outputs": [],
   "source": [
    "# Load emulator for gas fraction\n",
    "emu_fgas = load_emulator('fGas')\n",
    "\n",
    "# Base parameters\n",
    "base_params = np.array([3.0, 0.5, 0.8, 0.65, 0.1])\n",
    "\n",
    "# Vary the last parameter (epsilon_kin)\n",
    "eps_values = np.linspace(0.05, 0.5, 5)\n",
    "\n",
    "# Get x-grid\n",
    "x_grid, _ = get_x_grid('fGas')\n",
    "plot_info = get_plot_info('fGas')\n",
    "\n",
    "# Plot\n",
    "fig, ax = plt.subplots(figsize=(10, 6))\n",
    "\n",
    "for eps in eps_values:\n",
    "    params = base_params.copy()\n",
    "    params[4] = eps\n",
    "    \n",
    "    mean, _ = emu_fgas.predict(params)\n",
    "    \n",
    "    ax.plot(x_grid, mean, lw=2, label=f'ε_kin = {eps:.2f}')\n",
    "\n",
    "ax.set_xscale(plot_info['xscale'])\n",
    "ax.set_yscale(plot_info['yscale'])\n",
    "ax.set_xlabel(plot_info['xlabel'], fontsize=12)\n",
    "ax.set_ylabel(plot_info['ylabel'], fontsize=12)\n",
    "ax.set_title('Gas Fraction vs Kinetic Feedback Efficiency', fontsize=14)\n",
    "ax.legend(fontsize=10)\n",
    "ax.grid(True, alpha=0.3)\n",
    "plt.tight_layout()\n",
    "plt.show()"
   ]
  },
  {
   "cell_type": "markdown",
   "metadata": {},
   "source": [
    "## 6. Using 2-Parameter Models"
   ]
  },
  {
   "cell_type": "code",
   "execution_count": null,
   "metadata": {},
   "outputs": [],
   "source": [
    "# Load 2-parameter model for CGD\n",
    "emu_cgd_2p = load_emulator('CGD_2p')\n",
    "print(emu_cgd_2p)\n",
    "\n",
    "# Only need 2 parameters: [v_kin/1e4, eps/1e1]\n",
    "params_2p = np.array([0.65, 0.1])\n",
    "\n",
    "# Make prediction\n",
    "mean, quantiles = emu_cgd_2p.predict(params_2p)\n",
    "\n",
    "# Get plotting info\n",
    "x_grid, _ = get_x_grid('CGD_2p')\n",
    "plot_info = get_plot_info('CGD_2p')\n",
    "\n",
    "# Plot\n",
    "fig, ax = plt.subplots(figsize=(10, 6))\n",
    "ax.plot(x_grid, mean, 'r-', lw=2, label='2-param model')\n",
    "ax.fill_between(x_grid, quantiles[:, 0], quantiles[:, 1], \n",
    "                alpha=0.3, color='red', label='90% CI')\n",
    "ax.set_xscale(plot_info['xscale'])\n",
    "ax.set_yscale(plot_info['yscale'])\n",
    "ax.set_xlabel(plot_info['xlabel'], fontsize=12)\n",
    "ax.set_ylabel(plot_info['ylabel'], fontsize=12)\n",
    "ax.set_title('Cluster Gas Density (2-parameter model)', fontsize=14)\n",
    "ax.legend(fontsize=11)\n",
    "ax.grid(True, alpha=0.3)\n",
    "plt.tight_layout()\n",
    "plt.show()"
   ]
  },
  {
   "cell_type": "markdown",
   "metadata": {},
   "source": [
    "## 7. Batch Predictions"
   ]
  },
  {
   "cell_type": "code",
   "execution_count": null,
   "metadata": {},
   "outputs": [],
   "source": [
    "# Load emulator\n",
    "emu = load_emulator('GSMF')\n",
    "\n",
    "# Create random parameter samples\n",
    "np.random.seed(42)\n",
    "n_samples = 5\n",
    "params_batch = np.random.uniform(\n",
    "    low=[2.0, 0.2, 0.6, 0.1, 0.02],\n",
    "    high=[4.0, 1.0, 1.2, 1.2, 0.5],\n",
    "    size=(n_samples, 5)\n",
    ")\n",
    "\n",
    "print(\"Parameter samples:\")\n",
    "print(params_batch)\n",
    "print()\n",
    "\n",
    "# Make predictions\n",
    "x_grid, _ = get_x_grid('GSMF')\n",
    "plot_info = get_plot_info('GSMF')\n",
    "\n",
    "fig, ax = plt.subplots(figsize=(10, 6))\n",
    "\n",
    "for i, params in enumerate(params_batch):\n",
    "    mean, _ = emu.predict(params)\n",
    "    ax.plot(x_grid, mean, lw=1.5, alpha=0.7, label=f'Sample {i+1}')\n",
    "\n",
    "ax.set_xscale(plot_info['xscale'])\n",
    "ax.set_yscale(plot_info['yscale'])\n",
    "ax.set_xlabel(plot_info['xlabel'], fontsize=12)\n",
    "ax.set_ylabel(plot_info['ylabel'], fontsize=12)\n",
    "ax.set_title('GSMF for Different Parameter Sets', fontsize=14)\n",
    "ax.legend(fontsize=10)\n",
    "ax.grid(True, alpha=0.3)\n",
    "plt.tight_layout()\n",
    "plt.show()"
   ]
  },
  {
   "cell_type": "markdown",
   "metadata": {},
   "source": [
    "## Summary\n",
    "\n",
    "This notebook demonstrated:\n",
    "1. How to list available statistics\n",
    "2. How to get parameter information\n",
    "3. How to make single predictions\n",
    "4. How to compare multiple statistics\n",
    "5. How to study parameter variations\n",
    "6. How to use 2-parameter models\n",
    "7. How to make batch predictions\n",
    "\n",
    "For more information, see the package documentation in the README."
   ]
  }
 ],
 "metadata": {
  "kernelspec": {
   "display_name": "qom_torch_tf",
   "language": "python",
   "name": "python3"
  },
  "language_info": {
   "codemirror_mode": {
    "name": "ipython",
    "version": 3
   },
   "file_extension": ".py",
   "mimetype": "text/x-python",
   "name": "python",
   "nbconvert_exporter": "python",
   "pygments_lexer": "ipython3",
   "version": "3.9.18"
  }
 },
 "nbformat": 4,
 "nbformat_minor": 4
}
